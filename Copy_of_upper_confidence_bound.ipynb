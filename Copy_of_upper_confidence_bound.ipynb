{
  "nbformat": 4,
  "nbformat_minor": 0,
  "metadata": {
    "colab": {
      "name": "Copy of upper_confidence_bound.ipynb",
      "provenance": [],
      "collapsed_sections": [],
      "toc_visible": true
    },
    "kernelspec": {
      "name": "python3",
      "display_name": "Python 3"
    }
  },
  "cells": [
    {
      "cell_type": "markdown",
      "metadata": {
        "id": "QJdrJJQUv3-k"
      },
      "source": [
        "# Upper Confidence Bound (UCB)"
      ]
    },
    {
      "cell_type": "markdown",
      "metadata": {
        "id": "2XCjepjJwEv-"
      },
      "source": [
        "## Importing the libraries"
      ]
    },
    {
      "cell_type": "code",
      "metadata": {
        "id": "l_mBkG3YwNTt"
      },
      "source": [
        "import numpy as np\n",
        "import matplotlib.pyplot as plt\n",
        "import pandas as pd"
      ],
      "execution_count": 1,
      "outputs": []
    },
    {
      "cell_type": "markdown",
      "metadata": {
        "id": "npqlXjaNwYTv"
      },
      "source": [
        "## Importing the dataset"
      ]
    },
    {
      "cell_type": "code",
      "metadata": {
        "id": "HMJfUVLVwcFc"
      },
      "source": [
        "dataset = pd.read_csv('Ads_CTR_Optimisation.csv')"
      ],
      "execution_count": 2,
      "outputs": []
    },
    {
      "cell_type": "markdown",
      "metadata": {
        "id": "PaSbots_wfoB"
      },
      "source": [
        "## Implementing UCB"
      ]
    },
    {
      "cell_type": "code",
      "metadata": {
        "id": "x1-0qAISl-fH"
      },
      "source": [
        "import math\r\n",
        "N = 1000 \r\n",
        "d = 10 #number of ads\r\n",
        "ads_selected = [] \r\n",
        "numbers_of_selections = [0]*d #list of 10 zeroes, describing the number of times the ads were selected\r\n",
        "sums_of_rewards = [0]*d \r\n",
        "total_reward = 0\r\n",
        "upper_bound_list = []\r\n",
        "for n in range(0,N):\r\n",
        "  ad = 0\r\n",
        "  max_upper_bound = 0 \r\n",
        "  for i in range(0,d):\r\n",
        "    if (numbers_of_selections[i] > 0):\r\n",
        "      average_reward = sums_of_rewards[i]/ numbers_of_selections[i] \r\n",
        "      delta_i = math.sqrt((3/2) * (math.log(n+1)/ numbers_of_selections[i]))\r\n",
        "      upper_bound = average_reward + delta_i\r\n",
        "      upper_bound_list.append(upper_bound)\r\n",
        "    else:\r\n",
        "      upper_bound = 1e400\r\n",
        "    if (upper_bound > max_upper_bound):\r\n",
        "      max_upper_bound = upper_bound\r\n",
        "      ad = i\r\n",
        "  ads_selected.append(ad)\r\n",
        "  numbers_of_selections[ad]+=1\r\n",
        "  reward = dataset.values[n, ad]\r\n",
        "  sums_of_rewards[ad]+= reward\r\n",
        "  total_reward += reward\r\n",
        "\r\n"
      ],
      "execution_count": 3,
      "outputs": []
    },
    {
      "cell_type": "code",
      "metadata": {
        "id": "uW5aSgW9tWmW"
      },
      "source": [
        ""
      ],
      "execution_count": 3,
      "outputs": []
    },
    {
      "cell_type": "markdown",
      "metadata": {
        "id": "AXftWcjDwsYj"
      },
      "source": [
        "## Visualising the results"
      ]
    },
    {
      "cell_type": "code",
      "metadata": {
        "colab": {
          "base_uri": "https://localhost:8080/",
          "height": 295
        },
        "id": "6j1Pyq4-x0kf",
        "outputId": "3ba68dcd-cd52-467d-a1b0-e1c7ebdbd5b1"
      },
      "source": [
        "plt.hist(ads_selected)\r\n",
        "plt.title('Histogram of Ads Selections')\r\n",
        "plt.xlabel('Ads')\r\n",
        "plt.ylabel('Number of selections')\r\n",
        "plt.show()"
      ],
      "execution_count": 4,
      "outputs": [
        {
          "output_type": "display_data",
          "data": {
            "image/png": "[encoded data removed]",
            "text/plain": [
              "<Figure size 432x288 with 1 Axes>"
            ]
          },
          "metadata": {
            "tags": [],
            "needs_background": "light"
          }
        }
      ]
    }
  ]
}